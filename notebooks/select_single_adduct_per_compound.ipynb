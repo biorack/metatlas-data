{
 "cells": [
  {
   "cell_type": "code",
   "execution_count": 1,
   "metadata": {},
   "outputs": [],
   "source": [
    "import pandas as pd\n",
    "from termcolor import colored\n",
    "import os\n",
    "from tqdm.notebook import tqdm"
   ]
  },
  {
   "cell_type": "code",
   "execution_count": 2,
   "metadata": {},
   "outputs": [],
   "source": [
    "polarity = \"positive\"\n",
    "atlas_type = \"EMA\""
   ]
  },
  {
   "cell_type": "code",
   "execution_count": 3,
   "metadata": {},
   "outputs": [
    {
     "name": "stdout",
     "output_type": "stream",
     "text": [
      "You're working in the directory: /Users/BKieft/Metabolomics/metatlas-data/notebooks\n"
     ]
    }
   ],
   "source": [
    "current_working_directory = os.getcwd()\n",
    "print(\"You're working in the directory: \" + current_working_directory)"
   ]
  },
  {
   "cell_type": "code",
   "execution_count": 4,
   "metadata": {},
   "outputs": [],
   "source": [
    "# Read in data\n",
    "C18_atlas_df = pd.read_csv(current_working_directory + '/../C18/C18_' + atlas_type + '_' + polarity + '_all-adducts_renamed_deduplicated.tsv', sep='\\t', float_precision='round_trip')\n",
    "mass_file = pd.read_csv(current_working_directory + '/select_single_adduct_per_compound_data/inchi-key_to_mass.csv', sep=',', float_precision='round_trip')"
   ]
  },
  {
   "cell_type": "code",
   "execution_count": 5,
   "metadata": {},
   "outputs": [],
   "source": [
    "# Find duplicates of different features (columns)\n",
    "\n",
    "C18_atlas_df_dups = C18_atlas_df.copy()\n",
    "C18_atlas_df_dups = pd.merge(C18_atlas_df_dups, mass_file, how=\"inner\", on=\"inchi_key\")\n",
    "\n",
    "C18_atlas_df_dups['inchi-adduct'] = C18_atlas_df_dups['inchi_key'].astype(str) + C18_atlas_df_dups['adduct']\n",
    "C18_atlas_df_dups['label-adduct'] = C18_atlas_df_dups['label'].astype(str) + C18_atlas_df_dups['adduct']\n",
    "duplicated_inchi_adducts = list(C18_atlas_df_dups[C18_atlas_df_dups['inchi-adduct'].duplicated()]['inchi-adduct'].drop_duplicates().values)\n",
    "duplicated_inchis = list(C18_atlas_df_dups[C18_atlas_df_dups['inchi_key'].duplicated()]['inchi_key'].drop_duplicates().values)\n",
    "duplicated_label_adducts = list(C18_atlas_df_dups[C18_atlas_df_dups['label-adduct'].duplicated()]['label-adduct'].drop_duplicates().values)\n"
   ]
  },
  {
   "cell_type": "code",
   "execution_count": 6,
   "metadata": {},
   "outputs": [
    {
     "data": {
      "application/vnd.jupyter.widget-view+json": {
       "model_id": "2b1bca6513be43c3acf8ce0f57e35fe5",
       "version_major": 2,
       "version_minor": 0
      },
      "text/plain": [
       "  0%|          | 0/3664 [00:00<?, ?it/s]"
      ]
     },
     "metadata": {},
     "output_type": "display_data"
    },
    {
     "name": "stdout",
     "output_type": "stream",
     "text": [
      "\u001b[32m\n",
      "Correct number of duplicated inchis (3750) removed from starting number of 7622\u001b[0m\n"
     ]
    }
   ],
   "source": [
    "# Identify inchi keys that have multiple adducts and choose hydrogen (most common) or the highest intensity\n",
    "\n",
    "if polarity == \"positive\":\n",
    "    preferred_adduct = '[M+H]+'\n",
    "elif polarity == \"negative\":\n",
    "    preferred_adduct = '[M-H]-'\n",
    "\n",
    "C18_atlas_df_filt1 = C18_atlas_df_dups.copy()\n",
    "\n",
    "starting_compounds = C18_atlas_df_filt1.shape\n",
    "removed_compounds = 0\n",
    "\n",
    "C18_atlas_df_filt1 = C18_atlas_df_filt1[~C18_atlas_df_filt1['inchi_key'].isin(duplicated_inchis)]\n",
    "\n",
    "for inchi in tqdm(duplicated_inchis):\n",
    "\n",
    "    adducts = list(C18_atlas_df_dups[C18_atlas_df_dups['inchi_key'] == inchi]['adduct'])\n",
    "    number_of_duplicates = len(adducts)\n",
    "\n",
    "    if not all(i == adducts[0] for i in adducts):\n",
    "\n",
    "        if preferred_adduct in adducts:\n",
    "\n",
    "            inchi_sub = C18_atlas_df_dups[C18_atlas_df_dups['inchi_key'] == inchi]\n",
    "            best_adduct = inchi_sub[inchi_sub['adduct'] == preferred_adduct].iloc[[0]]\n",
    "            C18_atlas_df_filt1 = pd.concat([C18_atlas_df_filt1, best_adduct], ignore_index=True)\n",
    "            #print(colored(\"Choosing \" + preferred_adduct + \" for duplicated \" + inchi, \"green\"))\n",
    "            removed_compounds += number_of_duplicates-1\n",
    "\n",
    "        else:\n",
    "\n",
    "            best_adduct = C18_atlas_df_dups[C18_atlas_df_dups['inchi_key'] == inchi].sort_values('intensity', ascending = False).iloc[[0]]\n",
    "            C18_atlas_df_filt1 = pd.concat([C18_atlas_df_filt1, best_adduct], ignore_index=True)\n",
    "            #print(colored(\"Warning: No \" + preferred_adduct + \" for \" + inchi + \". Choosing \" + str(best_adduct['adduct'].to_list()) + \" based on intensity\", \"red\"))\n",
    "            removed_compounds += number_of_duplicates-1\n",
    "\n",
    "    else:\n",
    "        \n",
    "        best_adduct = C18_atlas_df_dups[C18_atlas_df_dups['inchi_key'] == inchi].iloc[[0]]  # Choose the first one\n",
    "        removed_compounds += number_of_duplicates\n",
    "        #print(colored(\"Warning: all adducts for duplicated inchi key \" + inchi + \" are the same!\", \"red\"))\n",
    "\n",
    "if C18_atlas_df_filt1.shape[0] == starting_compounds[0]-removed_compounds:\n",
    "\n",
    "    print(colored(\"\\nCorrect number of duplicated inchis (\" + str(removed_compounds) + \") removed from starting number of \" + str(starting_compounds[0]), \"green\"))\n",
    "\n",
    "else:\n",
    "\n",
    "    print(colored(\"\\nDifferent number of duplicated inchis removed (\" + str(removed_compounds) + \") than expected! Need to investigate\", \"red\"))"
   ]
  },
  {
   "cell_type": "code",
   "execution_count": 7,
   "metadata": {},
   "outputs": [
    {
     "name": "stdout",
     "output_type": "stream",
     "text": [
      "\u001b[32mIdentical compound labels at mass 131.0946287 have the same adduct!\u001b[0m\n",
      "\u001b[32mIdentical compound labels at mass 131.0946287 have the same adduct!\u001b[0m\n",
      "\u001b[32mIdentical compound labels at mass 264.1361591 have the same adduct!\u001b[0m\n",
      "\u001b[32mIdentical compound labels at mass 353.1263227 have the same adduct!\u001b[0m\n",
      "\u001b[32mIdentical compound labels at mass 265.1314081 have the same adduct!\u001b[0m\n",
      "\u001b[32mIdentical compound labels at mass 327.1470582 have the same adduct!\u001b[0m\n",
      "\u001b[32mIdentical compound labels at mass 399.1681875 have the same adduct!\u001b[0m\n",
      "\u001b[32mIdentical compound labels at mass 254.1419132 have the same adduct!\u001b[0m\n",
      "\u001b[32mIdentical compound labels at mass 410.2304534 have the same adduct!\u001b[0m\n",
      "\u001b[32mIdentical compound labels at mass 248.1412445 have the same adduct!\u001b[0m\n",
      "\u001b[32mIdentical compound labels at mass 356.2562743 have the same adduct!\u001b[0m\n",
      "\u001b[32mIdentical compound labels at mass 413.3293796 have the same adduct!\u001b[0m\n",
      "\u001b[32mIdentical compound labels at mass 244.0881634 have the same adduct!\u001b[0m\n",
      "\u001b[32mIdentical compound labels at mass 272.0684735 have the same adduct!\u001b[0m\n",
      "\u001b[32mIdentical compound labels at mass 608.2733809 have the same adduct!\u001b[0m\n",
      "\u001b[32mIdentical compound labels at mass 219.1106726 have the same adduct!\u001b[0m\n",
      "\u001b[32mIdentical compound labels at mass 344.0896029 have the same adduct!\u001b[0m\n",
      "\u001b[32mIdentical compound labels at mass 368.1259884 have the same adduct!\u001b[0m\n",
      "\u001b[32mIdentical compound labels at mass 325.1525375 have the same adduct!\u001b[0m\n",
      "\u001b[32mIdentical compound labels at mass 280.1674592 have the same adduct!\u001b[0m\n",
      "\u001b[32mIdentical compound labels at mass 913.5551416 have the same adduct!\u001b[0m\n",
      "\u001b[32mIdentical compound labels at mass 424.136947 have the same adduct!\u001b[0m\n",
      "\u001b[32mIdentical compound labels at mass 457.1584107 have the same adduct!\u001b[0m\n",
      "\u001b[32mIdentical compound labels at mass 346.1416384 have the same adduct!\u001b[0m\n",
      "\u001b[32mIdentical compound labels at mass 354.0950822 have the same adduct!\u001b[0m\n",
      "\u001b[32mIdentical compound labels at mass 610.1897704 have the same adduct!\u001b[0m\n",
      "\u001b[32mIdentical compound labels at mass 488.3501746 have the same adduct!\u001b[0m\n",
      "\u001b[32mIdentical compound labels at mass 304.0583027 have the same adduct!\u001b[0m\n",
      "\u001b[32mIdentical compound labels at mass 610.1533849 have the same adduct!\u001b[0m\n"
     ]
    }
   ],
   "source": [
    "# Check if label-adduct pairs have different masses\n",
    "# Look for red to indicate filtering needs to be done\n",
    "\n",
    "duplicated_label_adducts = list(C18_atlas_df_filt1[C18_atlas_df_filt1['label-adduct'].duplicated()]['label-adduct'].drop_duplicates().values)\n",
    "\n",
    "for label_adduct in duplicated_label_adducts:\n",
    "\n",
    "    mzs = list(C18_atlas_df_filt1[C18_atlas_df_filt1['label-adduct'] == label_adduct]['mono_isotopic_molecular_weight'])\n",
    "    same_mz = all(i == mzs[0] for i in mzs)\n",
    "\n",
    "    if same_mz == False:\n",
    "\n",
    "        print(colored(\"Warning! Identical compound labels at mass \" + str(mzs[0]) + \" have different adducts!\", \"red\"))\n",
    "\n",
    "    else:\n",
    "\n",
    "        print(colored(\"Identical compound labels at mass \" + str(mzs[0]) + \" have the same adduct!\", \"green\"))"
   ]
  },
  {
   "cell_type": "code",
   "execution_count": 8,
   "metadata": {},
   "outputs": [
    {
     "name": "stdout",
     "output_type": "stream",
     "text": [
      "\u001b[32mDuplicated label leucine has the same adduct!\u001b[0m\n",
      "\u001b[32mDuplicated label isoleucine has the same adduct!\u001b[0m\n",
      "\u001b[32mDuplicated label abscisic acid has the same adduct!\u001b[0m\n",
      "\u001b[32mDuplicated label chelidonine has the same adduct!\u001b[0m\n",
      "\u001b[32mDuplicated label anisomycin has the same adduct!\u001b[0m\n",
      "\u001b[32mDuplicated label boldine has the same adduct!\u001b[0m\n",
      "\u001b[32mDuplicated label colchicine has the same adduct!\u001b[0m\n",
      "\u001b[32mDuplicated label lysergol has the same adduct!\u001b[0m\n",
      "\u001b[32mDuplicated label forskolin has the same adduct!\u001b[0m\n",
      "\u001b[32mDuplicated label parthenolide has the same adduct!\u001b[0m\n",
      "\u001b[32mDuplicated label lagochiline has the same adduct!\u001b[0m\n",
      "\u001b[32mDuplicated label solasodine has the same adduct!\u001b[0m\n",
      "\u001b[32mDuplicated label biotin has the same adduct!\u001b[0m\n",
      "\u001b[32mDuplicated label naringenin has the same adduct!\u001b[0m\n",
      "\u001b[32mDuplicated label reserpine has the same adduct!\u001b[0m\n",
      "\u001b[32mDuplicated label pantothenic acid has the same adduct!\u001b[0m\n",
      "\u001b[32mDuplicated label (+)-usnic acid has the same adduct!\u001b[0m\n",
      "\u001b[32mDuplicated label curcumin has the same adduct!\u001b[0m\n",
      "\u001b[32mDuplicated label monocrotaline has the same adduct!\u001b[0m\n",
      "\u001b[32mDuplicated label brefeldin a has the same adduct!\u001b[0m\n",
      "\u001b[32mDuplicated label rapamycin has the same adduct!\u001b[0m\n",
      "\u001b[32mDuplicated label ginkgolide b has the same adduct!\u001b[0m\n",
      "\u001b[32mDuplicated label gitoxigenin has the same adduct!\u001b[0m\n",
      "\u001b[32mDuplicated label amygdalin has the same adduct!\u001b[0m\n",
      "\u001b[32mDuplicated label gibberellic acid has the same adduct!\u001b[0m\n",
      "\u001b[32mDuplicated label chlorogenic acid has the same adduct!\u001b[0m\n",
      "\u001b[32mDuplicated label hesperidin has the same adduct!\u001b[0m\n",
      "\u001b[32mDuplicated label asiatic acid has the same adduct!\u001b[0m\n",
      "\u001b[32mDuplicated label taxifolin has the same adduct!\u001b[0m\n",
      "\u001b[32mDuplicated label rutin has the same adduct!\u001b[0m\n"
     ]
    }
   ],
   "source": [
    "# Check if compounds with same label but different inchi_keys have the same adduct\n",
    "# Look for red to indicate filtering needs to be done\n",
    "\n",
    "duplicated_labels = list(C18_atlas_df_filt1[C18_atlas_df_filt1['label'].duplicated()]['label'].drop_duplicates().values)\n",
    "\n",
    "for label in duplicated_labels:\n",
    "\n",
    "    adducts = list(C18_atlas_df_filt1[C18_atlas_df_filt1['label'] == label]['adduct'])\n",
    "    same_adducts = all(i == adducts[0] for i in adducts)\n",
    "\n",
    "    if same_mz == False:\n",
    "\n",
    "        print(colored(\"Warning! Duplicated label \" + label + \" has different adducts!\", \"red\"))\n",
    "\n",
    "    else:\n",
    "\n",
    "        print(colored(\"Duplicated label \" + label + \" has the same adduct!\", \"green\"))"
   ]
  },
  {
   "cell_type": "code",
   "execution_count": 9,
   "metadata": {},
   "outputs": [
    {
     "name": "stdout",
     "output_type": "stream",
     "text": [
      "\u001b[31mMultiple entries for leucine have identical inchi key prefixes (ROHFNLRQFUQHCH); Returning only highest intensity entry: ROHFNLRQFUQHCH-UHFFFAOYSA-N\u001b[0m\n",
      "\u001b[31mMultiple entries for isoleucine have identical inchi key prefixes (AGPKZVBTJJNPAG); Returning only highest intensity entry: AGPKZVBTJJNPAG-WHFBIAKZSA-N\u001b[0m\n",
      "\u001b[31mMultiple entries for abscisic acid have identical inchi key prefixes (JLIDBLDQVAYHNE); Returning only highest intensity entry: JLIDBLDQVAYHNE-YKALOCIXSA-N\u001b[0m\n",
      "\u001b[31mMultiple entries for chelidonine have identical inchi key prefixes (GHKISGDRQRSCII); Returning only highest intensity entry: GHKISGDRQRSCII-UHFFFAOYSA-N\u001b[0m\n",
      "\u001b[32mInchi keys for duplicated label anisomycin do not have the same prefix (['YKJYKKNCCRKFSL', 'JPQPWCGQXFYELU']): Retaining all\u001b[0m\n",
      "\u001b[31mMultiple entries for boldine have identical inchi key prefixes (LZJRNLRASBVRRX); Returning only highest intensity entry: LZJRNLRASBVRRX-UHFFFAOYSA-N\u001b[0m\n",
      "\u001b[31mMultiple entries for colchicine have identical inchi key prefixes (IAKHMKGGTNLKSZ); Returning only highest intensity entry: IAKHMKGGTNLKSZ-UHFFFAOYSA-N\u001b[0m\n",
      "\u001b[31mMultiple entries for lysergol have identical inchi key prefixes (BIXJFIJYBLJTMK); Returning only highest intensity entry: BIXJFIJYBLJTMK-MYHCZTBNSA-N\u001b[0m\n",
      "\u001b[31mMultiple entries for forskolin have identical inchi key prefixes (OHCQJHSOBUTRHG); Returning only highest intensity entry: OHCQJHSOBUTRHG-KGGHGJDLSA-N\u001b[0m\n",
      "\u001b[31mMultiple entries for parthenolide have identical inchi key prefixes (KTEXNACQROZXEV); Returning only highest intensity entry: KTEXNACQROZXEV-CDQRVUJFSA-N\u001b[0m\n",
      "\u001b[31mMultiple entries for lagochiline have identical inchi key prefixes (XYPPDQHBNJURHU); Returning only highest intensity entry: XYPPDQHBNJURHU-KBXWKRFBSA-N\u001b[0m\n",
      "\u001b[31mMultiple entries for solasodine have identical inchi key prefixes (KWVISVAMQJWJSZ); Returning only highest intensity entry: KWVISVAMQJWJSZ-HPYXYLFXSA-N\u001b[0m\n",
      "\u001b[31mMultiple entries for biotin have identical inchi key prefixes (YBJHBAHKTGYVGT); Returning only highest intensity entry: YBJHBAHKTGYVGT-ZKWXMUAHSA-N\u001b[0m\n",
      "\u001b[31mMultiple entries for naringenin have identical inchi key prefixes (FTVWIRXFELQLPI); Returning only highest intensity entry: FTVWIRXFELQLPI-UHFFFAOYSA-N\u001b[0m\n",
      "\u001b[31mMultiple entries for reserpine have identical inchi key prefixes (QEVHRUUCFGRFIF); Returning only highest intensity entry: QEVHRUUCFGRFIF-UHFFFAOYSA-N\u001b[0m\n",
      "\u001b[31mMultiple entries for pantothenic acid have identical inchi key prefixes (GHOKWGTUZJEAQD); Returning only highest intensity entry: GHOKWGTUZJEAQD-UHFFFAOYSA-N\u001b[0m\n",
      "\u001b[32mInchi keys for duplicated label (+)-usnic acid do not have the same prefix (['CUCUKLJLRRAKFN', 'ICTZCAHDGHPRQR']): Retaining all\u001b[0m\n",
      "\u001b[32mInchi keys for duplicated label curcumin do not have the same prefix (['VFLDPWHFBUODDF', 'VZMSCIKIANDZNI']): Retaining all\u001b[0m\n",
      "\u001b[31mMultiple entries for monocrotaline have identical inchi key prefixes (QVCMHGGNRFRMAD); Returning only highest intensity entry: QVCMHGGNRFRMAD-YYSJHYLRSA-N\u001b[0m\n",
      "\u001b[31mMultiple entries for brefeldin a have identical inchi key prefixes (KQNZDYYTLMIZCT); Returning only highest intensity entry: KQNZDYYTLMIZCT-KFKPYADVSA-N\u001b[0m\n",
      "\u001b[31mMultiple entries for rapamycin have identical inchi key prefixes (QFJCIRLUMZQUOT); Returning only highest intensity entry: QFJCIRLUMZQUOT-KQUODMAZSA-N\u001b[0m\n",
      "\u001b[31mMultiple entries for ginkgolide b have identical inchi key prefixes (SQOJOAFXDQDRGF); Returning only highest intensity entry: SQOJOAFXDQDRGF-SRJUFZACSA-N\u001b[0m\n",
      "\u001b[31mMultiple entries for gitoxigenin have identical inchi key prefixes (PVAMXWLZJKTXFW); Returning only highest intensity entry: PVAMXWLZJKTXFW-UHFFFAOYSA-N\u001b[0m\n",
      "\u001b[31mMultiple entries for amygdalin have identical inchi key prefixes (XUCIJNAGGSZNQT); Returning only highest intensity entry: XUCIJNAGGSZNQT-UHFFFAOYSA-N\u001b[0m\n",
      "\u001b[31mMultiple entries for gibberellic acid have identical inchi key prefixes (IXORZMNAPKEEDV); Returning only highest intensity entry: IXORZMNAPKEEDV-OBDJNFEBSA-N\u001b[0m\n",
      "\u001b[31mMultiple entries for chlorogenic acid have identical inchi key prefixes (CWVRJTMFETXNAD); Returning only highest intensity entry: CWVRJTMFETXNAD-ISDGXQLTSA-N\u001b[0m\n",
      "\u001b[31mMultiple entries for hesperidin have identical inchi key prefixes (QUQPHWDTPGMPEX); Returning only highest intensity entry: QUQPHWDTPGMPEX-UHFFFAOYSA-N\u001b[0m\n",
      "\u001b[31mMultiple entries for asiatic acid have identical inchi key prefixes (JXSVIVRDWWRQRT); Returning only highest intensity entry: JXSVIVRDWWRQRT-UYDOISQJSA-N\u001b[0m\n",
      "\u001b[31mMultiple entries for taxifolin have identical inchi key prefixes (CXQWRCVTCMQVQX); Returning only highest intensity entry: CXQWRCVTCMQVQX-LSDHHAIUSA-N\u001b[0m\n",
      "\u001b[32mInchi keys for duplicated label rutin do not have the same prefix (['ZMDOPLQSOGZPJN', 'IKGXIBQEEMLURG']): Retaining all\u001b[0m\n",
      "\u001b[32m\n",
      "Correct number of duplicated labels removed!\u001b[0m\n"
     ]
    }
   ],
   "source": [
    "# Identify duplicated labels which have different first-14 inchi keys\n",
    "\n",
    "C18_atlas_df_filt2 = C18_atlas_df_filt1.copy()\n",
    "\n",
    "starting_compounds = C18_atlas_df_filt2.shape\n",
    "removed_compounds = 0\n",
    "\n",
    "for label in duplicated_labels:\n",
    "\n",
    "    inchis = list(C18_atlas_df_filt2[C18_atlas_df_filt2['label'] == label]['inchi_key'])\n",
    "    \n",
    "    if inchis:\n",
    "\n",
    "        number_of_duplicates = len(inchis)\n",
    "        first14 = [i.split('-', 1)[0] for i in inchis]\n",
    "        \n",
    "        if all(i == first14[0] for i in first14):\n",
    "\n",
    "            C18_atlas_df_filt2 = C18_atlas_df_filt2[~C18_atlas_df_filt2['label'].isin([label])]\n",
    "\n",
    "            best_label = C18_atlas_df[C18_atlas_df['label'] == label].sort_values('intensity', ascending = False).iloc[[0]]\n",
    "            print(colored(\"Multiple entries for \" + label + \" have identical inchi key prefixes \" + \"(\" + first14[0] + \")\" + \"; \" + \"Returning only highest intensity entry: \" + best_label['inchi_key'].to_list()[0], \"red\"))\n",
    "\n",
    "            C18_atlas_df_filt2 = pd.concat([C18_atlas_df_filt2, best_label], ignore_index=True)\n",
    "            removed_compounds += number_of_duplicates-1\n",
    "\n",
    "        else:\n",
    "\n",
    "            print(colored(\"Inchi keys for duplicated label \" + label + \" do not have the same prefix (\" + str(first14) + \"): Retaining all\", \"green\"))\n",
    "\n",
    "if C18_atlas_df_filt2.shape[0] == starting_compounds[0]-removed_compounds:\n",
    "\n",
    "    print(colored(\"\\nCorrect number of duplicated labels removed!\", \"green\"))\n",
    "\n",
    "else:\n",
    "\n",
    "    print(colored(\"\\nDifferent number of duplicated labels removed than expected! Need to investigate\", \"red\"))"
   ]
  },
  {
   "cell_type": "code",
   "execution_count": 10,
   "metadata": {},
   "outputs": [
    {
     "data": {
      "text/plain": [
       "(3846, 57)"
      ]
     },
     "execution_count": 10,
     "metadata": {},
     "output_type": "execute_result"
    }
   ],
   "source": [
    "C18_atlas_df_filt2.shape"
   ]
  },
  {
   "cell_type": "code",
   "execution_count": 13,
   "metadata": {},
   "outputs": [
    {
     "name": "stdout",
     "output_type": "stream",
     "text": [
      "\u001b[31mWarning! Isomers (['VOXXWSYKYCBWHO-UHFFFAOYSA-N', 'JIVGSHFYXPRRSZ-UHFFFAOYSA-N', 'CJBDUOMQLFKVQC-UHFFFAOYSA-N']) of mass 166.0629942 have different adducts (['[M-H+2Na]+', '[M+H]+', '[M+H]+'])!\u001b[0m\n",
      "\u001b[31mWarning! Isomers (['OKVJCVWFVRATSG-UHFFFAOYSA-N', 'LHGVFZTZFXWLCP-UHFFFAOYSA-N', 'OIPPWFOQEKKFEE-UHFFFAOYSA-N']) of mass 124.0524295 have different adducts (['[M+H-H2O]+', '[M+H-H2O]+', '[M+H]+'])!\u001b[0m\n",
      "\u001b[31mWarning! Isomers (['IAVREABSGIHHMO-UHFFFAOYSA-N', 'WPYMKLBDIGXBTP-UHFFFAOYSA-N', 'RGHHSNMVTDWUBI-UHFFFAOYSA-N']) of mass 122.0367794 have different adducts (['[M+H]+', '[M+H-H2O]+', '[M+H]+'])!\u001b[0m\n",
      "\u001b[31mWarning! Isomers (['LSHZPTCZLWATBZ-CSKARUKUSA-N', 'HDXVSZWKIHQDES-LFYBBSHMSA-N', 'AJFTWGKYXHISKT-BJMVGYQFSA-N']) of mass 268.1099444 have different adducts (['[M-e]+', '[M+H]+', '[M+H]+'])!\u001b[0m\n",
      "\u001b[31mWarning! Isomers (['IFHXSMSQHPVVSF-UHFFFAOYSA-N', 'BXLAVJWSFYZDPF-UHFFFAOYSA-N', 'XKHRVIACZOQQNZ-UHFFFAOYSA-N', 'NAIAWYFLUAEJDT-UHFFFAOYSA-N', 'RIRAMOVDGJDPRU-UHFFFAOYSA-N', 'KEUIFZDBIBQKJD-UHFFFAOYSA-N', 'KJGPBYUQZLUKLL-UHFFFAOYSA-N', 'WOEUTFRCQAFFOM-UHFFFAOYSA-N', 'PFMGWOVPHHEHAL-UHFFFAOYSA-N', 'SUKDSSOVVTVBDK-APSNUPSMSA-N']) of mass 298.0841235 have different adducts (['[M+H]+', '[M+H]+', '[M+H]+', '[M+H]+', '[M+H]+', '[M+H]+', '[M+H]+', '[M+H]+', '[M+H]+', '[M-e]+'])!\u001b[0m\n",
      "\u001b[31mWarning! Isomers (['XQXPVVBIMDBYFF-UHFFFAOYSA-N', 'MWOOGOJBHIARFG-UHFFFAOYSA-N', 'SULYEHHGGXARJS-UHFFFAOYSA-N', 'IWYDHOAUDWTVEP-ZETCQYMHSA-N', 'WQXWIKCZNIGMAP-UHFFFAOYSA-N', 'ZEYHEAKUIGZSGI-UHFFFAOYSA-N', 'IWYDHOAUDWTVEP-SSDOTTSWSA-N', 'CCVYRRGZDBSHFU-UHFFFAOYSA-N', 'FVMDYYGIDFPZAX-UHFFFAOYSA-N']) of mass 152.0473441 have different adducts (['[M+H]+', '[M+H]+', '[M+H]+', '[M-H+2Na]+', '[M+H]+', '[M+H]+', '[M+H]+', '[M+H]+', '[M+H-H2O]+'])!\u001b[0m\n",
      "\u001b[31mWarning! Isomers (['QNKIRTADURZGPG-UHFFFAOYSA-N', 'WLPPIQFQOIOZAI-SOFGYWHQSA-N', 'BZKORUNDAHVLAO-UHFFFAOYSA-N', 'KJRQQECDVUXBCO-UHFFFAOYSA-N', 'AUAXNNILRNCQAX-UHFFFAOYSA-N', 'LUCPCQIWHDVLMX-UHFFFAOYSA-N', 'PJJFYUAXYSKODT-UHFFFAOYSA-N', 'AFIUIJXKXMMNCK-UHFFFAOYSA-N', 'LLLIKVGWTVPYAL-UHFFFAOYSA-N', 'OUAHROFFUILDCC-UHFFFAOYSA-N', 'CNDZOPXQZSXGSK-UHFFFAOYSA-N', 'HHAYKNGPBZOQMY-UHFFFAOYSA-N', 'XZRIVAKQBKTLEQ-UHFFFAOYSA-N', 'GUHXVSRRBMHSSC-UHFFFAOYSA-N', 'OHEGMEUWGGBBHR-UHFFFAOYSA-N', 'HRLZMYLZXBEKDA-UHFFFAOYSA-N', 'XBEINZKGCYZUQJ-UHFFFAOYSA-N', 'WVWDHKIZBHIGJE-UHFFFAOYSA-N']) of mass 282.0892089 have different adducts (['[M+H]+', '[M+H]+', '[M+H]+', '[M+H]+', '[M+H]+', '[M+H]+', '[M+H]+', '[M+H]+', '[M+H]+', '[M+H]+', '[M+H]+', '[M+H]+', '[M+H]+', '[M+H]+', '[M+H]+', '[M+H]+', '[M+Na]+', '[M+H]+'])!\u001b[0m\n",
      "\u001b[31mWarning! Isomers (['BVWTXUYLKBHMOX-UHFFFAOYSA-N', 'JVGVDSSUAVXRDY-UHFFFAOYSA-N', 'QRMZSPFSDQBLIX-UHFFFAOYSA-N', 'KCDXJAYRVLXPFO-UHFFFAOYSA-N', 'VCONERRCKOKCHE-UHFFFAOYSA-N', 'MBIZFBDREVRUHY-UHFFFAOYSA-N', 'NVLTWXMZECWWPC-UHFFFAOYSA-N']) of mass 182.0579088 have different adducts (['[M+H]+', '[M-H+2Na]+', '[M-H+2Na]+', '[M+H]+', '[M+H]+', '[M+H]+', '[M+H]+'])!\u001b[0m\n",
      "\u001b[31mWarning! Isomers (['JZFSMVXQUWRSIW-UHFFFAOYSA-N', 'WCGUUGGRBIKTOS-GPOJBZKASA-N', 'MIJYXULNPSFWEK-GTOFXWBISA-N', 'QGJZLNKBHJESQX-FZFNOLFKSA-N']) of mass 456.3603454 have different adducts (['[M+H-H2O]+', '[M+H]+', '[M+H]+', '[M+H]+'])!\u001b[0m\n",
      "\u001b[31mWarning! Isomers (['AQERSWBBCICMMF-UEWQFTGXSA-N', 'OJYLAHXKWMRDGS-UHFFFAOYSA-N', 'YUWQIFGCZPFOAL-UHFFFAOYSA-N', 'BSVXIKDDVDCMIO-UHFFFAOYSA-N', 'FWMPKHMKIJDEMJ-UHFFFAOYSA-N']) of mass 194.0942943 have different adducts (['[M+H]+', '[M+H-H2O]+', '[M+H]+', '[M+H]+', '[M+H]+'])!\u001b[0m\n",
      "\u001b[31mWarning! Isomers (['UDHVYWAGOFBWLU-GQCTYLIASA-N', 'IEWBNRYNNVFPME-UHFFFAOYSA-N', 'SYVMZLPEIIHXFP-UHFFFAOYSA-N', 'BCUUCVOMNSFJME-BQYQJAHWSA-N', 'FSIMGKYEOKOUSI-QPJJXVBHSA-N', 'JGAYPDXKXYCDBT-UHFFFAOYSA-N', 'OYSKBZHHLYECLU-UHFFFAOYSA-N']) of mass 342.1103383 have different adducts (['[M-e]+', '[M+H]+', '[M+H]+', '[M+H]+', '[M+H]+', '[M+H]+', '[M+H]+'])!\u001b[0m\n",
      "\u001b[31mWarning! Isomers (['MWAYRGBWOVHDDZ-UHFFFAOYSA-N', 'IAJBQAYHSQIQRE-UHFFFAOYSA-N', 'OJOBTAOGJIWAGB-UHFFFAOYSA-N', 'UCTUXUGXIFRVGX-UHFFFAOYSA-N', 'FBUBVLUPUDBFME-UHFFFAOYSA-N', 'BCEPNLMYVYJIHU-UHFFFAOYSA-N', 'KEQHBVWVKYHDCS-UHFFFAOYSA-N', 'OPHQOIGEOHXOGX-UHFFFAOYSA-N', 'BIGQPYZPEWAPBG-UHFFFAOYSA-N', 'DHZBEENLJMYSHQ-UHFFFAOYSA-N', 'BOLQJTPHPSDZHR-UHFFFAOYSA-N']) of mass 196.0735589 have different adducts (['[M+H]+', '[M+H]+', '[M+H]+', '[M+H]+', '[M+H]+', '[M+H]+', '[M+H]+', '[M+H]+', '[M+H]+', '[M+H]+', '[M-e]+'])!\u001b[0m\n",
      "\u001b[31mWarning! Isomers (['ULSUXBXHSYSGDT-UHFFFAOYSA-N', 'LKMNXYDUQXAUCZ-UHFFFAOYSA-N', 'QEIYHZJYLTZCCZ-UHFFFAOYSA-N', 'BGSRXSHSZTZIOG-UHFFFAOYSA-N', 'TWCIUIDYHNZCAW-FNORWQNLSA-N', 'NZDAFDYQKAGGAQ-FNORWQNLSA-N', 'RFMLZHDGOMAYSN-FNORWQNLSA-N']) of mass 372.120903 have different adducts (['[M+H]+', '[M+H]+', '[M+H]+', '[M+H]+', '[M-H+2Na]+', '[M+H]+', '[M+H]+'])!\u001b[0m\n",
      "\u001b[31mWarning! Isomers (['JDZXUAWKKRGHLW-UHFFFAOYSA-N', 'BWPNMQBBEJTENG-UHFFFAOYSA-N', 'IEVUSLIMAMJBDF-UHFFFAOYSA-N', 'URGMNEBQCDTMGX-UHFFFAOYSA-N', 'MHHDPGHZHFJLBZ-INIZCTEOSA-N', 'DITOENWBJBNZSL-KFIMKLJYSA-N']) of mass 329.1263227 have different adducts (['[M-H+2Na]+', '[M+H]+', '[M+H]+', '[M+H]+', '[M+H]+', '[M+H]+'])!\u001b[0m\n",
      "\u001b[31mWarning! Isomers (['XOPOEBVTQYAOSV-UHFFFAOYSA-N', 'WKGYQHYYELHOBX-UHFFFAOYSA-N', 'AZKVWQKMDGGDSV-BCMRRPTOSA-N']) of mass 226.0841235 have different adducts (['[M+H]+', '[M+H]+', '[M+Na]+'])!\u001b[0m\n",
      "\u001b[31mWarning! Isomers (['LNZNVIZOYGIGPF-UHFFFAOYSA-N', 'BKQWEYFPSIGUMT-UHFFFAOYSA-N']) of mass 489.2263711 have different adducts (['[M+H-H2O]+', '[M+H]+'])!\u001b[0m\n",
      "\u001b[31mWarning! Isomers (['AFFWKBQQXVTAPD-UHFFFAOYSA-N', 'HDUVMUHMMQPXOZ-VIFPVBQESA-N']) of mass 305.0834123 have different adducts (['[M+H]+', '[M+H-H2O]+'])!\u001b[0m\n",
      "\u001b[31mWarning! Isomers (['LOAUVZALPPNFOQ-UHFFFAOYSA-N', 'VQMSRUREDGBWKT-UHFFFAOYSA-N', 'HQVOPXGNHGTKOD-AATRIKPKSA-N']) of mass 173.0476785 have different adducts (['[M+H]+', '[M+H]+', '[M+H-H2O]+'])!\u001b[0m\n",
      "\u001b[31mWarning! Isomers (['MTSBOWIATLFZGS-UHFFFAOYSA-N', 'AAMRZVJDVFHDSC-ZROIWOOFSA-N']) of mass 391.1631021 have different adducts (['[M+Na]+', '[M+H]+'])!\u001b[0m\n",
      "\u001b[31mWarning! Isomers (['DSGVPNDPCXMTBI-SMIHKQSGSA-N', 'IAQQPKKCHJCVJZ-UHFFFAOYSA-N']) of mass 441.2052417 have different adducts (['[M-e]+', '[M+H]+'])!\u001b[0m\n",
      "\u001b[31mWarning! Isomers (['IVYPNXXAYMYVSP-UHFFFAOYSA-N', 'BBZCPUCZKLTAJQ-UHFFFAOYSA-N']) of mass 147.0684139 have different adducts (['[M+H-H2O]+', '[M+H]+'])!\u001b[0m\n",
      "\u001b[31mWarning! Isomers (['PNGRDCSCYSOHEZ-DUXPYHPUSA-N', 'FRGQUTFBRMOBND-PXNMLYILSA-N']) of mass 326.0790382 have different adducts (['[M+Na]+', '[M+H]+'])!\u001b[0m\n",
      "\u001b[31mWarning! Isomers (['RQSXVMSFJWLNRG-SOFGYWHQSA-N', 'YNWJZTCCYCJWLV-SOFGYWHQSA-N']) of mass 358.1416384 have different adducts (['[M+H]+', '[M-e]+'])!\u001b[0m\n",
      "\u001b[33m\tNote: These isomers elute together\u001b[0m\n",
      "\u001b[31mWarning! Isomers (['VMPZSBSETDXPSI-UHFFFAOYSA-N', 'KQACJIAQZHAEKS-UHFFFAOYSA-N']) of mass 467.1944023 have different adducts (['[M+H]+', '[M+Na]+'])!\u001b[0m\n",
      "\u001b[33m\tNote: These isomers elute together\u001b[0m\n",
      "\u001b[31mWarning! Isomers (['ZSWFGLVDMKTZIO-NTEUORMPSA-N', 'HARGZZNYNSYSGJ-JTQLQIEISA-N']) of mass 278.0942943 have different adducts (['[M+Na]+', '[M+H]+'])!\u001b[0m\n",
      "\u001b[33m\tNote: These isomers elute together\u001b[0m\n",
      "\u001b[31mWarning! Isomers (['IRSFLDGTOHBADP-UHFFFAOYSA-N', 'NLDDIKRKFXEWBK-AWEZNQCLSA-N']) of mass 294.1831093 have different adducts (['[M-H+2Na]+', '[M+H-H2O]+'])!\u001b[0m\n",
      "\u001b[31mWarning! Isomers (['YJGVMLPVUAXIQN-DPUNPDONSA-N', 'YJGVMLPVUAXIQN-XVVDYKMHSA-N', 'YJGVMLPVUAXIQN-HAEOHBJNSA-N']) of mass 414.1314677 have different adducts (['[M+H]+', '[M+H]+', '[M+Na]+'])!\u001b[0m\n",
      "\u001b[31mWarning! Isomers (['TVFMXYDXPCLOEQ-UHFFFAOYSA-N', 'IRONMSIMOFXUGZ-UHFFFAOYSA-N']) of mass 438.2042387 have different adducts (['[M+H]+', '[M+Na]+'])!\u001b[0m\n",
      "\u001b[31mWarning! Isomers (['BLUAFEHZUWYNDE-DKGJTOOQSA-N', 'BLUAFEHZUWYNDE-UHFFFAOYSA-N']) of mass 282.1467238 have different adducts (['[M+Na]+', '[M+H]+'])!\u001b[0m\n",
      "\u001b[33m\tNote: These isomers elute together\u001b[0m\n",
      "\u001b[31mWarning! Isomers (['JMSVCTWVEWCHDZ-UHFFFAOYSA-N', 'FYRXXSCCOWRCLX-UHFFFAOYSA-N', 'PXMUSCHKJYFZFD-UHFFFAOYSA-N', 'CGQCWMIAEPEHNQ-UHFFFAOYSA-N', 'CGQCWMIAEPEHNQ-QMMMGPOBSA-N', 'VFPFQHQNJCMNBZ-UHFFFAOYSA-N']) of mass 198.0528234 have different adducts (['[M+H]+', '[M+H]+', '[M+H]+', '[M+H-H2O]+', '[M+H-H2O]+', '[M+H]+'])!\u001b[0m\n",
      "\u001b[31mWarning! Isomers (['CYSHNJQMYORNJI-BLKABHOGSA-N', 'PTGGVIKFNQSFBY-PCEBFAEYSA-N']) of mass 358.2144094 have different adducts (['[M+H-H2O]+', '[M+H]+'])!\u001b[0m\n",
      "\u001b[33m\tNote: These isomers elute together\u001b[0m\n",
      "\u001b[31mWarning! Isomers (['LQXYZBQQOSACNR-UHFFFAOYSA-N', 'UKTFMPQSNSFGKD-UHFFFAOYSA-N']) of mass 406.1164863 have different adducts (['[M+H]+', '[M+Na]+'])!\u001b[0m\n",
      "\u001b[31mWarning! Isomers (['ACNCWTVOJNBNEN-UHFFFAOYSA-N', 'PEYUIKBAABKQKQ-NILVNCKXSA-N']) of mass 354.1103383 have different adducts (['[M+H]+', '[M+H-H2O]+'])!\u001b[0m\n",
      "\u001b[33m\tNote: These isomers elute together\u001b[0m\n",
      "\u001b[31mWarning! Isomers (['GMVPRGQOIOIIMI-DWKJAMRDSA-N', 'PXGPLTODNUVGFL-YNNPMVKQSA-N']) of mass 354.2406242 have different adducts (['[M+H-H2O]+', '[M+Na]+'])!\u001b[0m\n",
      "\u001b[33m\tNote: These isomers elute together\u001b[0m\n",
      "\u001b[31mWarning! Isomers (['ISQRJFLLIDGZEP-CMWLGVBASA-N', 'SGEWCQFRYRRZDC-VPRICQMDSA-N', 'KMOUJOKENFFTPU-OBJCFNGXSA-N', 'MYXNWGACZJSMBT-VJXVFPJBSA-N', 'ZCOLJUOHXJRHDI-CMWLGVBASA-N', 'KIZBWUUJNJEYCM-UHFFFAOYSA-N', 'ZXXFEBMBNPRRSI-UHFFFAOYSA-N']) of mass 432.1056468 have different adducts (['[M+H]+', '[M+H]+', '[M+H]+', '[M+H]+', '[M+H]+', '[M+Na]+', '[M+H]+'])!\u001b[0m\n",
      "\u001b[31mWarning! Isomers (['BGKHCLZFGPIKKU-LDDQNKHRSA-N', 'YBHMPNRDOVPQIN-VSOYFRJCSA-N']) of mass 336.2300595 have different adducts (['[M+Na]+', '[M+H]+'])!\u001b[0m\n",
      "\u001b[31mWarning! Isomers (['QLJMBAXRCXCSGZ-UHFFFAOYSA-N', 'PCMORTLOPMLEFB-ONEGZZNKSA-N']) of mass 224.0684735 have different adducts (['[M+NH4]+', '[M+H]+'])!\u001b[0m\n",
      "\u001b[33m\tNote: These isomers elute together\u001b[0m\n",
      "\u001b[31mWarning! Isomers (['VQTDPCRSXHFMOL-UHFFFAOYSA-N', 'DMPUNCUVRGJYGL-UHFFFAOYSA-N', 'JMFRWRFFLBVWSI-NSCUHMNNSA-N', 'FIUFLISGGHNPSM-UHFFFAOYSA-N']) of mass 180.0786442 have different adducts (['[M+H]+', '[M+H]+', '[M+H-H2O]+', '[M-H+2Na]+'])!\u001b[0m\n",
      "\u001b[31mWarning! Isomers (['URIDSVQRACSIAQ-UHFFFAOYSA-N', 'WEEQYGXVXCTTNO-UHFFFAOYSA-N']) of mass 423.1349692 have different adducts (['[M+H]+', '[M-e]+'])!\u001b[0m\n",
      "\u001b[33m\tNote: These isomers elute together\u001b[0m\n",
      "\u001b[31mWarning! Isomers (['WKOLLVMJNQIZCI-UHFFFAOYSA-N', 'MRIXVKKOHPQOFK-UHFFFAOYSA-N', 'IGMNYECMUMZDDF-UHFFFAOYSA-N', 'JAABVEXCGCXWRR-UHFFFAOYSA-N', 'RNVFYQUEEMZKLR-UHFFFAOYSA-N', 'CFFZDZCDUFSOFZ-UHFFFAOYSA-N']) of mass 168.0422587 have different adducts (['[M+H]+', '[M+H]+', '[M+H]+', '[M+H]+', '[M+H]+', '[M+H-H2O]+'])!\u001b[0m\n",
      "\u001b[31mWarning! Isomers (['BOJKULTULYSRAS-ACAGNQJTSA-N', 'BOJKULTULYSRAS-OTESTREVSA-N']) of mass 350.2093241 have different adducts (['[M+H]+', '[M+H-H2O]+'])!\u001b[0m\n",
      "\u001b[33m\tNote: These isomers elute together\u001b[0m\n",
      "\u001b[31mWarning! Isomers (['FYBFAXXUDIPASL-UHFFFAOYSA-N', 'HWSOTXVUDVRXCK-UHFFFAOYSA-N', 'ZFHGCDKLDQMIKO-UHFFFAOYSA-N']) of mass 421.1637708 have different adducts (['[M+H-H2O]+', '[M+H]+', '[M+H]+'])!\u001b[0m\n",
      "\u001b[31mWarning! Isomers (['PMATZTZNYRCHOR-NFOUMSERSA-N', 'PMATZTZNYRCHOR-CGLBZJNRSA-N']) of mass 1201.841368 have different adducts (['[M+Na]+', '[M+2H]2+'])!\u001b[0m\n",
      "\u001b[33m\tNote: These isomers elute together\u001b[0m\n",
      "\u001b[31mWarning! Isomers (['VTCDZPUMZAZMSB-UHFFFAOYSA-N', 'FBWPWWWZWKPJFL-UHFFFAOYSA-N']) of mass 184.0735589 have different adducts (['[M+H]+', '[M+H-H2O]+'])!\u001b[0m\n",
      "\u001b[31mWarning! Isomers (['AUDBREYGQOXIFT-UHFFFAOYSA-N', 'ZFBNNSOJNZBLLS-UHFFFAOYSA-N', 'XHUBSJRBOQIZNI-UHFFFAOYSA-N']) of mass 168.0786442 have different adducts (['[M+H]+', '[M+H]+', '[M+H-H2O]+'])!\u001b[0m\n",
      "\u001b[31mWarning! Isomers (['WNLRTRBMVRJNCN-UHFFFAOYSA-N', 'XJMMNTGIMDZPMU-UHFFFAOYSA-N', 'AQYCMVICBNBXNA-UHFFFAOYSA-N']) of mass 146.0579088 have different adducts (['[M+Na]+', '[M+H-H2O]+', '[M+H-H2O]+'])!\u001b[0m\n",
      "\u001b[31mWarning! Isomers (['AYYNUGSDPRDVCH-UHFFFAOYSA-N', 'LZFOPEXOUVTGJS-ONEGZZNKSA-N']) of mass 210.0892089 have different adducts (['[M+H]+', '[M+H-H2O]+'])!\u001b[0m\n",
      "\u001b[31mWarning! Isomers (['PHEDXBVPIONUQT-LQLWEASQSA-N', 'PHEDXBVPIONUQT-RGYGYFBISA-N']) of mass 616.3975188 have different adducts (['[M+H]+', '[M+Na]+'])!\u001b[0m\n",
      "\u001b[33m\tNote: These isomers elute together\u001b[0m\n",
      "\u001b[31mWarning! Isomers (['JVQYSWDUAOAHFM-UHFFFAOYSA-N', 'JYVXNLLUYHCIIH-UHFFFAOYSA-N', 'BKAJNAXTPSGJCU-UHFFFAOYSA-N']) of mass 130.0629942 have different adducts (['[2M+H]+', '[M+H]+', '[2M+H]+'])!\u001b[0m\n",
      "\u001b[31mWarning! Isomers (['AKSYFXKHZGSZNB-UHFFFAOYSA-N', 'BTOTXLJHDSNXMW-QFSRMBNQSA-N']) of mass 212.0797069 have different adducts (['[M+H]+', '[M+Na]+'])!\u001b[0m\n",
      "\u001b[31mWarning! Isomers (['WFZVFCIUAYURKP-RHFCGKNMSA-N', 'OLJDCWYDXLXFJK-YKAHSWEGSA-N']) of mass 388.2249741 have different adducts (['[M+H]+', '[M+2Na]2+'])!\u001b[0m\n",
      "\u001b[31mWarning! Isomers (['AQDIJIAUYXOCGX-UHFFFAOYSA-N', 'RGHMISIYKIHAJW-UHFFFAOYSA-N']) of mass 184.0371734 have different adducts (['[M+H]+', '[M+H-H2O]+'])!\u001b[0m\n",
      "\u001b[31mWarning! Isomers (['XWVOEFLBOSSYGM-UHFFFAOYSA-N', 'CNBUSIJNWNXLQQ-NSHDSACASA-N']) of mass 281.1263227 have different adducts (['[M+H]+', '[M+Na]+'])!\u001b[0m\n",
      "\u001b[33m\tNote: These isomers elute together\u001b[0m\n",
      "\u001b[31mWarning! Isomers (['JFCQEDHGNNZCLN-UHFFFAOYSA-N', 'UKFXDFUAPNAMPJ-UHFFFAOYSA-N']) of mass 132.0422587 have different adducts (['[M+H-H2O]+', '[M+H]+'])!\u001b[0m\n",
      "\u001b[31mWarning! Isomers (['QGAVCXGJZGAGIG-BQYQJAHWSA-N', 'HCRCDHQCNBHHLK-VMPITWQZSA-N']) of mass 330.0903518 have different adducts (['[M+H]+', '[M-e]+'])!\u001b[0m\n",
      "\u001b[31mWarning! Isomers (['AFENDNXGAFYKQO-VKHMYHEASA-N', 'WHBMMWSBFZVSSR-GSVOUGTGSA-N']) of mass 104.0473441 have different adducts (['[M-H+2Na]+', '[M+H]+'])!\u001b[0m\n"
     ]
    }
   ],
   "source": [
    "# Check if isomers have different adducts\n",
    "\n",
    "isomers_with_differing_adducts = []\n",
    "\n",
    "duplicated_mz_isomers = list(C18_atlas_df_filt2[C18_atlas_df_filt2['mono_isotopic_molecular_weight'].round(decimals=6).duplicated()]['mono_isotopic_molecular_weight'].drop_duplicates().values)\n",
    "\n",
    "for isomer_mass in duplicated_mz_isomers:\n",
    "\n",
    "    subset = C18_atlas_df_filt2[C18_atlas_df_filt2['mono_isotopic_molecular_weight'] == isomer_mass]\n",
    "    inchi = list(subset['inchi_key'])\n",
    "    adducts = list(subset['adduct'])\n",
    "    same_adducts = all(i == adducts[0] for i in adducts)\n",
    "\n",
    "    if same_adducts == False:\n",
    "\n",
    "        print(colored(\"Warning! Isomers (\" + str(inchi) + \") of mass \" + str(isomer_mass) + \" have different adducts (\" + str(adducts) + \")!\", \"red\"))\n",
    "        isomers_with_differing_adducts.append(inchi)\n",
    "\n",
    "        if len(adducts) == 2:\n",
    "\n",
    "            diff = (subset['rt_peak'].iloc[0] - subset['rt_peak'].iloc[1])\n",
    "\n",
    "            if abs(diff) <= 0.5:\n",
    "\n",
    "                print(colored(\"\\tNote: These isomers elute together\", \"yellow\"))\n",
    "    else:\n",
    "\n",
    "        pass\n",
    "        #print(colored(\"All good! Isomers at MZ \" + str(isomer_mass) + \" have the same adduct!\", \"green\"))\n",
    "\n",
    "def flatten(xss):\n",
    "    return [x for xs in xss for x in xs]\n",
    "\n",
    "isomers_with_differing_adducts = flatten(isomers_with_differing_adducts)"
   ]
  },
  {
   "cell_type": "code",
   "execution_count": 14,
   "metadata": {},
   "outputs": [],
   "source": [
    "C18_atlas_df_filt3 = C18_atlas_df_filt2.drop('label-adduct', axis=1)\n",
    "\n",
    "C18_atlas_df_filt3.to_csv(current_working_directory + '/../C18/C18_' + atlas_type + '_' + polarity + '_all-adducts_renamed_deduplicated_reduced.tsv', sep='\\t', index = False)"
   ]
  }
 ],
 "metadata": {
  "kernelspec": {
   "display_name": "metatlas",
   "language": "python",
   "name": "python3"
  },
  "language_info": {
   "codemirror_mode": {
    "name": "ipython",
    "version": 3
   },
   "file_extension": ".py",
   "mimetype": "text/x-python",
   "name": "python",
   "nbconvert_exporter": "python",
   "pygments_lexer": "ipython3",
   "version": "3.11.8"
  }
 },
 "nbformat": 4,
 "nbformat_minor": 2
}
